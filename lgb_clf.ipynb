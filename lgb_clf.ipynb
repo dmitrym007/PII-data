{
 "cells": [
  {
   "cell_type": "code",
   "execution_count": 1,
   "id": "0f42a796",
   "metadata": {},
   "outputs": [],
   "source": [
    "import pandas as pd\n",
    "import re\n",
    "import numpy as np\n",
    "import random\n",
    "import lightgbm as lgb\n",
    "from sklearn.model_selection import train_test_split, GridSearchCV\n",
    "from sklearn.preprocessing import LabelEncoder\n",
    "from sklearn.metrics import accuracy_score, classification_report\n",
    "import time"
   ]
  },
  {
   "cell_type": "code",
   "execution_count": 4,
   "id": "6417cac5",
   "metadata": {},
   "outputs": [],
   "source": [
    "df = pd.read_csv('pii_data_large.csv', low_memory=False)"
   ]
  },
  {
   "cell_type": "code",
   "execution_count": 5,
   "id": "63d2b534",
   "metadata": {},
   "outputs": [
    {
     "data": {
      "text/plain": [
       "(100000, 31)"
      ]
     },
     "execution_count": 5,
     "metadata": {},
     "output_type": "execute_result"
    }
   ],
   "source": [
    "df.shape"
   ]
  },
  {
   "cell_type": "code",
   "execution_count": 6,
   "id": "c3ce39a7",
   "metadata": {},
   "outputs": [
    {
     "data": {
      "text/html": [
       "<div>\n",
       "<style scoped>\n",
       "    .dataframe tbody tr th:only-of-type {\n",
       "        vertical-align: middle;\n",
       "    }\n",
       "\n",
       "    .dataframe tbody tr th {\n",
       "        vertical-align: top;\n",
       "    }\n",
       "\n",
       "    .dataframe thead th {\n",
       "        text-align: right;\n",
       "    }\n",
       "</style>\n",
       "<table border=\"1\" class=\"dataframe\">\n",
       "  <thead>\n",
       "    <tr style=\"text-align: right;\">\n",
       "      <th></th>\n",
       "      <th>family_name</th>\n",
       "      <th>name</th>\n",
       "      <th>surname</th>\n",
       "      <th>age</th>\n",
       "      <th>birthday</th>\n",
       "      <th>subject</th>\n",
       "      <th>region</th>\n",
       "      <th>city</th>\n",
       "      <th>street</th>\n",
       "      <th>house</th>\n",
       "      <th>...</th>\n",
       "      <th>job</th>\n",
       "      <th>salary</th>\n",
       "      <th>dept</th>\n",
       "      <th>direct</th>\n",
       "      <th>sect</th>\n",
       "      <th>spec</th>\n",
       "      <th>highshool</th>\n",
       "      <th>mil_rank</th>\n",
       "      <th>mil_spec</th>\n",
       "      <th>comment</th>\n",
       "    </tr>\n",
       "  </thead>\n",
       "  <tbody>\n",
       "    <tr>\n",
       "      <th>0</th>\n",
       "      <td>Калинина</td>\n",
       "      <td>Гедеон</td>\n",
       "      <td>Тарасовна</td>\n",
       "      <td>23</td>\n",
       "      <td>2021-05-12</td>\n",
       "      <td>Тульская область</td>\n",
       "      <td>Якутский район</td>\n",
       "      <td>г. Пермь</td>\n",
       "      <td>пер. Пионерская</td>\n",
       "      <td>3</td>\n",
       "      <td>...</td>\n",
       "      <td>Аналитик</td>\n",
       "      <td>60000</td>\n",
       "      <td>Департамент внезапных озарений</td>\n",
       "      <td>Управление критики практического разума</td>\n",
       "      <td>Отдел маскирования персональных данных</td>\n",
       "      <td>Парапсихология</td>\n",
       "      <td>Морская техническая академия</td>\n",
       "      <td>лейтенант</td>\n",
       "      <td>матрос подводной лодки</td>\n",
       "      <td>['Отдел дорогой руководитель полюбить коммуниз...</td>\n",
       "    </tr>\n",
       "    <tr>\n",
       "      <th>1</th>\n",
       "      <td>Комиссаров</td>\n",
       "      <td>Добромысл</td>\n",
       "      <td>Адамович</td>\n",
       "      <td>22</td>\n",
       "      <td>1965-06-05</td>\n",
       "      <td>Республика Карелия</td>\n",
       "      <td>Красноярский район</td>\n",
       "      <td>г. Нарьян-Мар</td>\n",
       "      <td>бул. Слободская</td>\n",
       "      <td>18/13</td>\n",
       "      <td>...</td>\n",
       "      <td>Медицинская сестра</td>\n",
       "      <td>110000</td>\n",
       "      <td>Департамент бескомпромиссной борьбы</td>\n",
       "      <td>Управление № 1</td>\n",
       "      <td>Отдел позитивной критики</td>\n",
       "      <td>Контрразведывательная деятельность</td>\n",
       "      <td>Крымский федеральный университет</td>\n",
       "      <td>старший сержант</td>\n",
       "      <td>артиллерист</td>\n",
       "      <td>['Магазин мусор о мрачно. Премьера означать пр...</td>\n",
       "    </tr>\n",
       "    <tr>\n",
       "      <th>2</th>\n",
       "      <td>Калашников</td>\n",
       "      <td>Филипп</td>\n",
       "      <td>Абрамович</td>\n",
       "      <td>55</td>\n",
       "      <td>2014-04-27</td>\n",
       "      <td>Кабардино-Балкарская Республика</td>\n",
       "      <td>Йошкар-олинский район</td>\n",
       "      <td>г. Тамбов</td>\n",
       "      <td>ш. Осенняя</td>\n",
       "      <td>116</td>\n",
       "      <td>...</td>\n",
       "      <td>Кредитный специалист</td>\n",
       "      <td>90000</td>\n",
       "      <td>Департамент глубокомысленных размышлений</td>\n",
       "      <td>Управление № 2</td>\n",
       "      <td>Отдел изучения эфирных оболочек</td>\n",
       "      <td>Прикладная математика</td>\n",
       "      <td>Таймырская сельскохозяйственная академия</td>\n",
       "      <td>капитан 2-го ранга</td>\n",
       "      <td>фельдшер</td>\n",
       "      <td>['Порт социалистический отражение применяться....</td>\n",
       "    </tr>\n",
       "  </tbody>\n",
       "</table>\n",
       "<p>3 rows × 31 columns</p>\n",
       "</div>"
      ],
      "text/plain": [
       "  family_name       name    surname  age    birthday  \\\n",
       "0    Калинина     Гедеон  Тарасовна   23  2021-05-12   \n",
       "1  Комиссаров  Добромысл   Адамович   22  1965-06-05   \n",
       "2  Калашников     Филипп  Абрамович   55  2014-04-27   \n",
       "\n",
       "                           subject                 region           city  \\\n",
       "0                 Тульская область         Якутский район       г. Пермь   \n",
       "1               Республика Карелия     Красноярский район  г. Нарьян-Мар   \n",
       "2  Кабардино-Балкарская Республика  Йошкар-олинский район      г. Тамбов   \n",
       "\n",
       "            street  house  ...                   job  salary  \\\n",
       "0  пер. Пионерская      3  ...              Аналитик   60000   \n",
       "1  бул. Слободская  18/13  ...    Медицинская сестра  110000   \n",
       "2       ш. Осенняя    116  ...  Кредитный специалист   90000   \n",
       "\n",
       "                                       dept  \\\n",
       "0            Департамент внезапных озарений   \n",
       "1       Департамент бескомпромиссной борьбы   \n",
       "2  Департамент глубокомысленных размышлений   \n",
       "\n",
       "                                    direct  \\\n",
       "0  Управление критики практического разума   \n",
       "1                           Управление № 1   \n",
       "2                           Управление № 2   \n",
       "\n",
       "                                     sect                                spec  \\\n",
       "0  Отдел маскирования персональных данных                      Парапсихология   \n",
       "1                Отдел позитивной критики  Контрразведывательная деятельность   \n",
       "2         Отдел изучения эфирных оболочек               Прикладная математика   \n",
       "\n",
       "                                  highshool            mil_rank  \\\n",
       "0              Морская техническая академия           лейтенант   \n",
       "1          Крымский федеральный университет     старший сержант   \n",
       "2  Таймырская сельскохозяйственная академия  капитан 2-го ранга   \n",
       "\n",
       "                 mil_spec                                            comment  \n",
       "0  матрос подводной лодки  ['Отдел дорогой руководитель полюбить коммуниз...  \n",
       "1             артиллерист  ['Магазин мусор о мрачно. Премьера означать пр...  \n",
       "2                фельдшер  ['Порт социалистический отражение применяться....  \n",
       "\n",
       "[3 rows x 31 columns]"
      ]
     },
     "execution_count": 6,
     "metadata": {},
     "output_type": "execute_result"
    }
   ],
   "source": [
    "df.head(3)"
   ]
  },
  {
   "cell_type": "markdown",
   "id": "9b82f28a",
   "metadata": {},
   "source": [
    "### Извлечение признаков"
   ]
  },
  {
   "cell_type": "code",
   "execution_count": 7,
   "id": "cff42d0c",
   "metadata": {},
   "outputs": [],
   "source": [
    "def extract_features_from_column(column):\n",
    "    if column.dtype == 'object' or np.issubdtype(column.dtype, np.datetime64):  # Тип объект или дата\n",
    "        column = column.astype('string')\n",
    "        avg_length = column.apply(len).mean()\n",
    "        avg_num_words = column.apply(lambda x: len(x.split())).mean()\n",
    "        most_freq_cnt = column.value_counts().iloc[0]\n",
    "        unique_cnt = len(column.unique())\n",
    "        avg_num_letters = column.apply(lambda x: sum(c.isalpha() for c in x)).mean()\n",
    "        avg_num_digits = column.apply(lambda x: sum(c.isdigit() for c in x)).mean()\n",
    "        avg_num_dashs = column.apply(lambda x: sum(c == '-' for c in x)).mean()\n",
    "        avg_num_ats = column.apply(lambda x: sum(c == '@' for c in x)).mean()\n",
    "        avg_num_dots = column.apply(lambda x: sum(c == '.' for c in x)).mean()\n",
    "        avg_num_sp_chars = column.apply(lambda x: sum(not c.isalnum() for c in x)).mean()\n",
    "        avg_num_upper = column.apply(lambda x: sum(c.isupper() for c in x)).mean()\n",
    "        mean_value = std_value = min_value = max_value = quantile_0_2 = quantile_0_8 = 0\n",
    "        \n",
    "        return [avg_length, avg_num_words, most_freq_cnt, unique_cnt, avg_num_letters, avg_num_digits, avg_num_dashs, avg_num_ats, avg_num_dots, \n",
    "                avg_num_sp_chars, avg_num_upper, mean_value, std_value, min_value, max_value, quantile_0_2, quantile_0_8]\n",
    "    elif np.issubdtype(column.dtype, np.number):  # Численный тип\n",
    "        mean_value = column.mean()\n",
    "        std_value = column.std()\n",
    "        min_value = column.min()\n",
    "        max_value = column.max()\n",
    "        quantile_0_2 = column.quantile(0.2)\n",
    "        quantile_0_8 = column.quantile(0.8)\n",
    "        most_freq_cnt = column.value_counts().iloc[0]\n",
    "        unique_cnt = len(column.unique())\n",
    "        avg_length = avg_num_words = avg_min_word_len = avg_num_letters = avg_num_digits = avg_num_dashs = avg_num_ats = avg_num_dots = avg_num_sp_chars = avg_num_upper = 0\n",
    "        return [avg_length, avg_num_words, most_freq_cnt, unique_cnt, avg_num_letters, avg_num_digits, avg_num_dashs, avg_num_ats, avg_num_dots, \n",
    "                avg_num_sp_chars, avg_num_upper, mean_value, std_value, min_value, max_value, quantile_0_2, quantile_0_8]\n",
    "    else:\n",
    "        return [None, None, None, None, None, None, None, None, None, None, None, None, None, None, None, None]"
   ]
  },
  {
   "cell_type": "code",
   "execution_count": 27,
   "id": "b98fa385",
   "metadata": {},
   "outputs": [],
   "source": [
    "# Создание датфрейма из признаков с классами\n",
    "feature_list = []\n",
    "column_names = df.columns\n",
    "num_iterations = 1000 # Количество итераций\n",
    "num_samples = random.randint(500, 10000) # Количество сэмплов\n",
    "\n",
    "for _ in range(num_iterations):\n",
    "    for column_name in column_names:\n",
    "        features = extract_features_from_column(df.sample(random.randint(500, 10000))[column_name])\n",
    "        feature_list.append(features + [column_name,])\n",
    "\n",
    "feature_df = pd.DataFrame(feature_list, columns=[\n",
    "    'avg_length', 'avg_num_words', 'most_freq_cnt', 'unique_cnt', 'avg_num_letters', 'avg_num_digits', 'avg_num_dashs', 'avg_num_ats', 'avg_num_dots', \n",
    "    'avg_num_sp_chars', 'avg_num_upper', 'mean_value', 'std_value', 'min_value', 'max_value', 'quantile_0_2', 'quantile_0_8', 'column_name'\n",
    "    ])"
   ]
  },
  {
   "cell_type": "code",
   "execution_count": 16,
   "id": "1dbf7b83",
   "metadata": {},
   "outputs": [],
   "source": [
    "feature_df.to_csv('feature_df_large.csv', index=False)"
   ]
  },
  {
   "cell_type": "code",
   "execution_count": 17,
   "id": "ca0052c5",
   "metadata": {},
   "outputs": [
    {
     "name": "stdout",
     "output_type": "stream",
     "text": [
      "<class 'pandas.core.frame.DataFrame'>\n",
      "RangeIndex: 31000 entries, 0 to 30999\n",
      "Data columns (total 18 columns):\n",
      " #   Column            Non-Null Count  Dtype  \n",
      "---  ------            --------------  -----  \n",
      " 0   avg_length        31000 non-null  float64\n",
      " 1   avg_num_words     31000 non-null  float64\n",
      " 2   most_freq_cnt     31000 non-null  int64  \n",
      " 3   unique_cnt        31000 non-null  int64  \n",
      " 4   avg_num_letters   31000 non-null  float64\n",
      " 5   avg_num_digits    31000 non-null  float64\n",
      " 6   avg_num_dashs     31000 non-null  float64\n",
      " 7   avg_num_ats       31000 non-null  float64\n",
      " 8   avg_num_dots      31000 non-null  float64\n",
      " 9   avg_num_sp_chars  31000 non-null  float64\n",
      " 10  avg_num_upper     31000 non-null  float64\n",
      " 11  mean_value        31000 non-null  float64\n",
      " 12  std_value         31000 non-null  float64\n",
      " 13  min_value         31000 non-null  int64  \n",
      " 14  max_value         31000 non-null  int64  \n",
      " 15  quantile_0_2      31000 non-null  float64\n",
      " 16  quantile_0_8      31000 non-null  float64\n",
      " 17  column_name       31000 non-null  object \n",
      "dtypes: float64(13), int64(4), object(1)\n",
      "memory usage: 4.3+ MB\n"
     ]
    }
   ],
   "source": [
    "feature_df.info()"
   ]
  },
  {
   "cell_type": "markdown",
   "id": "d551e8ba",
   "metadata": {},
   "source": [
    "### Обучение модели"
   ]
  },
  {
   "cell_type": "code",
   "execution_count": 32,
   "id": "0c9810d3",
   "metadata": {},
   "outputs": [],
   "source": [
    "label_encoder = LabelEncoder()\n",
    "feature_df['target_encoded'] = label_encoder.fit_transform(feature_df['column_name'])\n",
    "\n",
    "X = feature_df.drop(columns=['column_name', 'target_encoded'])\n",
    "y = feature_df['target_encoded']\n",
    "\n",
    "X_train, X_test, y_train, y_test = train_test_split(X, y, test_size=0.2, random_state=42)\n",
    "\n",
    "# Выбор гиперпараметров\n",
    "# param_grid = {\n",
    "#     'device': 'gpu',\n",
    "#     'n_estimators': [10, 50, 100],\n",
    "#     'max_depth': [1, 3, 5],\n",
    "#     'learning_rate': [0.01, 0.1, 0.2],\n",
    "#     'subsample': [0.6, 0.8, 1.0],\n",
    "#     'colsample_bytree': [0.6, 0.8, 1.0]\n",
    "# }\n",
    "\n",
    "# gbm = lgb.LGBMClassifier(device='gpu', random_state=42)\n",
    "\n",
    "# Поиск гиперпараметров\n",
    "# grid_search = GridSearchCV(estimator=gbm, param_grid=param_grid, cv=5, scoring='accuracy')#, n_jobs=-1)\n",
    "# grid_search.fit(X_train, y_train)\n",
    "\n",
    "# Выбор гиперпараметров\n",
    "# best_params_gbm = grid_search.best_params_\n",
    "# print(\"Best parameters for GBM:\", best_params_gbm)\n",
    "\n",
    "# Тренировка модели с выбранными гиперпараметрами\n",
    "# best_gbm = lgb.LGBMClassifier(device='gpu', **best_params_gbm, random_state=42)\n",
    "# best_gbm.fit(X_train, y_train)\n",
    "\n",
    "params = {\n",
    "#     'device': 'gpu',\n",
    "    'colsample_bytree': 0.6,\n",
    "    'learning_rate': 0.01,\n",
    "    'max_depth': 3,\n",
    "    'n_estimators': 50,\n",
    "    'subsample': 0.6,\n",
    "    'random_state': 42\n",
    "    }\n",
    "\n",
    "# Тренировка модели с выбранными гиперпараметрами\n",
    "best_gbm = lgb.LGBMClassifier(**params)\n",
    "best_gbm.fit(X_train, y_train)"
   ]
  },
  {
   "cell_type": "code",
   "execution_count": 19,
   "id": "1b046cbf",
   "metadata": {},
   "outputs": [
    {
     "name": "stdout",
     "output_type": "stream",
     "text": [
      "LightGBM accuracy score: 0.9997\n"
     ]
    }
   ],
   "source": [
    "# Точность предсказаний на тестовой выборке\n",
    "y_pred = best_gbm.predict(X_test)\n",
    "print('LightGBM accuracy score: {0:0.4f}'.format(accuracy_score(y_pred, y_test)))"
   ]
  },
  {
   "cell_type": "code",
   "execution_count": 13,
   "id": "b252036d",
   "metadata": {},
   "outputs": [],
   "source": [
    "df_val = pd.read_csv('pii_data.csv', low_memory=False)"
   ]
  },
  {
   "cell_type": "markdown",
   "id": "552a1e95",
   "metadata": {},
   "source": [
    "### Предсказания на валидационном датасете"
   ]
  },
  {
   "cell_type": "code",
   "execution_count": 28,
   "id": "2f1dd9f7",
   "metadata": {},
   "outputs": [],
   "source": [
    "feature_list_val = []\n",
    "column_names = df.columns\n",
    "for column_name in column_names:\n",
    "    features = extract_features_from_column(df_val.sample(1000)[column_name])\n",
    "    feature_list_val.append(features + [column_name,])\n",
    "\n",
    "feature_df_val = pd.DataFrame(feature_list_val, columns=[\n",
    "    'avg_length', 'avg_num_words', 'most_freq_cnt', 'unique_cnt', 'avg_num_letters', 'avg_num_digits', 'avg_num_dashs', 'avg_num_ats', 'avg_num_dots', \n",
    "    'avg_num_sp_chars', 'avg_num_upper', 'mean_value', 'std_value', 'min_value', 'max_value', 'quantile_0_2', 'quantile_0_8', 'column_name'\n",
    "    ])"
   ]
  },
  {
   "cell_type": "code",
   "execution_count": 35,
   "id": "9668ba09",
   "metadata": {
    "scrolled": true
   },
   "outputs": [
    {
     "name": "stdout",
     "output_type": "stream",
     "text": [
      "Поля:   Классы\n",
      "--------------\n",
      "family_name:   family_name\n",
      "name:   name\n",
      "surname:   surname\n",
      "age:   age\n",
      "birthday:   birthday\n",
      "subject:   subject\n",
      "region:   region\n",
      "city:   city\n",
      "street:   street\n",
      "house:   house\n",
      "flat:   flat\n",
      "diploma_seria:   diploma_seria\n",
      "diploma_num:   diploma_num\n",
      "mil_seria:   mil_seria\n",
      "mil_num:   mil_num\n",
      "snils:   snils\n",
      "inn:   inn\n",
      "passport:   passport\n"
     ]
    }
   ],
   "source": [
    "predictions = best_gbm.predict(feature_df_val.drop('column_name', axis=1))\n",
    "le_mapping = dict(zip(label_encoder.transform( label_encoder.classes_), label_encoder.classes_))\n",
    "\n",
    "print('Поля:   Классы')\n",
    "print(f\"{'-' * 14}\")\n",
    "for i in range(len(feature_df_val.columns)):\n",
    "    print(f\"{df_val.columns[i]}:   {le_mapping[predictions[i]]}\")"
   ]
  }
 ],
 "metadata": {
  "kernelspec": {
   "display_name": "Python [conda env:base] *",
   "language": "python",
   "name": "conda-base-py"
  },
  "language_info": {
   "codemirror_mode": {
    "name": "ipython",
    "version": 3
   },
   "file_extension": ".py",
   "mimetype": "text/x-python",
   "name": "python",
   "nbconvert_exporter": "python",
   "pygments_lexer": "ipython3",
   "version": "3.11.9"
  }
 },
 "nbformat": 4,
 "nbformat_minor": 5
}
